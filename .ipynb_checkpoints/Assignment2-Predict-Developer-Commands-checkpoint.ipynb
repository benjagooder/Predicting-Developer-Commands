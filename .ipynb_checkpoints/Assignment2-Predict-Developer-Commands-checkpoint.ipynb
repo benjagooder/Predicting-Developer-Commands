{
 "cells": [
  {
   "cell_type": "markdown",
   "metadata": {},
   "source": [
    "# MSR 2018 Challenge Notebook\n",
    "This notebook contains the work done for the analysis for Tyson Bulmer's MSR 2018 Challgne paper using the supplied dataset."
   ]
  },
  {
   "cell_type": "code",
   "execution_count": null,
   "metadata": {},
   "outputs": [],
   "source": [
    "import psycopg2\n",
    "import psycopg2.extras\n",
    "import pandas as pd\n",
    "import numpy as np\n",
    "\n",
    "# To deal with right skewness we can take the log of the values\n",
    "import math\n",
    "\n",
    "import matplotlib.pyplot as plt\n",
    "\n",
    "# Configure display of dataframe visualizations\n",
    "pd.options.display.mpl_style = 'default'"
   ]
  },
  {
   "cell_type": "markdown",
   "metadata": {},
   "source": [
    "## Connect to database and get event data"
   ]
  },
  {
   "cell_type": "code",
   "execution_count": null,
   "metadata": {
    "collapsed": true
   },
   "outputs": [],
   "source": [
    "conn = psycopg2.connect(\"dbname='msr2018' user='Tyson' host='localhost' password=''\")"
   ]
  },
  {
   "cell_type": "code",
   "execution_count": null,
   "metadata": {
    "collapsed": true
   },
   "outputs": [],
   "source": [
    "cur = conn.cursor()"
   ]
  },
  {
   "cell_type": "code",
   "execution_count": null,
   "metadata": {
    "collapsed": true
   },
   "outputs": [],
   "source": [
    "cur.execute(\"\"\"select event_type, idesessionuuid, triggeredat, commandid, cancelled, terminatedstate, action, typeofnavigation, wasaborted from events\"\"\")"
   ]
  },
  {
   "cell_type": "code",
   "execution_count": null,
   "metadata": {
    "collapsed": true
   },
   "outputs": [],
   "source": [
    "colnames = [desc[0] for desc in cur.description]"
   ]
  },
  {
   "cell_type": "code",
   "execution_count": null,
   "metadata": {
    "collapsed": true
   },
   "outputs": [],
   "source": [
    "rows = cur.fetchall()"
   ]
  },
  {
   "cell_type": "code",
   "execution_count": null,
   "metadata": {
    "collapsed": true
   },
   "outputs": [],
   "source": [
    "results = pd.DataFrame([list(row) for row in rows], columns=colnames)"
   ]
  },
  {
   "cell_type": "code",
   "execution_count": null,
   "metadata": {
    "collapsed": true
   },
   "outputs": [],
   "source": [
    "# Clean up events column strings\n",
    "results['event_type'] = results['event_type'].apply(lambda x:'.'.join(x.split(',')[0].split('.')[4:]))"
   ]
  },
  {
   "cell_type": "code",
   "execution_count": null,
   "metadata": {},
   "outputs": [],
   "source": [
    "# Filter results to only applicable events\n",
    "events_to_use = [\n",
    "    'CommandEvent', 'NavigationEvent', 'VisualStudio.WindowEvent',\n",
    "    'CompletionEvents.CompletionEvent',\n",
    "       'VisualStudio.EditEvent', 'VisualStudio.DocumentEvent',\n",
    "       'VisualStudio.DebuggerEvent',\n",
    "       'VisualStudio.SolutionEvent', 'VisualStudio.IDEStateEvent', 'VisualStudio.BuildEvent',\n",
    "       'TestRunEvents.TestRunEvent',\n",
    "       'VersionControlEvents.VersionControlEvent', 'VisualStudio.FindEvent'\n",
    "]\n",
    "results = results[results['event_type'].isin(events_to_use)].fillna('')"
   ]
  },
  {
   "cell_type": "code",
   "execution_count": null,
   "metadata": {},
   "outputs": [],
   "source": [
    "# Clean up commandid column strings\n",
    "results['commandid'] = results['commandid'].apply(lambda x:'.'.join(x.split(':')[-1].split('.')[-2:]))"
   ]
  },
  {
   "cell_type": "code",
   "execution_count": null,
   "metadata": {
    "scrolled": true
   },
   "outputs": [],
   "source": [
    "results = results.sort_values('triggeredat')\n",
    "results"
   ]
  },
  {
   "cell_type": "code",
   "execution_count": null,
   "metadata": {},
   "outputs": [],
   "source": [
    "d = {'CommandEvent':'commandid',\n",
    "     'CompletionEvents.CompletionEvent':'terminatedstate',\n",
    "     'VisualStudio.DocumentEvent': 'action',\n",
    "     'VisualStudio.FindEvent':'cancelled',\n",
    "     'VisualStudio.SolutionEvent':'action',\n",
    "     'VisualStudio.WindowEvent': 'action',\n",
    "     'NavigationEvent': 'typeofnavigation',\n",
    "     'TestRunEvents.TestRunEvent': 'wasaborted'\n",
    "    }\n",
    "\n",
    "def complete_events(x):\n",
    "    try:\n",
    "        post_fix = str(x[d[x['event_type']]])\n",
    "        return x['event_type']+'-'+post_fix\n",
    "    except:\n",
    "        return x['event_type']\n",
    "    \n",
    "results['event_type_complete'] = results.apply(complete_events, axis=1)"
   ]
  },
  {
   "cell_type": "code",
   "execution_count": null,
   "metadata": {},
   "outputs": [],
   "source": [
    "results"
   ]
  },
  {
   "cell_type": "code",
   "execution_count": null,
   "metadata": {},
   "outputs": [],
   "source": [
    "data = []\n",
    "for index, group in results.groupby('idesessionuuid', as_index=False):\n",
    "    events, originals = group['event_type_complete'].tolist(), group['event_type']\n",
    "    indices = [i for i, x in enumerate(originals) if x == \"CommandEvent\"]\n",
    "    \n",
    "    for ind in indices:\n",
    "        x = events[:ind]\n",
    "        y = events[ind]\n",
    "        if len(x) > 0:\n",
    "            data.append([' '.join(x), y])\n",
    "    \n",
    "data = pd.DataFrame(data, columns=['events', 'command'])"
   ]
  },
  {
   "cell_type": "code",
   "execution_count": null,
   "metadata": {
    "collapsed": true
   },
   "outputs": [],
   "source": [
    "data"
   ]
  },
  {
   "cell_type": "code",
   "execution_count": null,
   "metadata": {
    "collapsed": true
   },
   "outputs": [],
   "source": []
  }
 ],
 "metadata": {
  "kernelspec": {
   "display_name": "Python 3",
   "language": "python",
   "name": "python3"
  },
  "language_info": {
   "codemirror_mode": {
    "name": "ipython",
    "version": 3
   },
   "file_extension": ".py",
   "mimetype": "text/x-python",
   "name": "python",
   "nbconvert_exporter": "python",
   "pygments_lexer": "ipython3",
   "version": "3.6.1"
  }
 },
 "nbformat": 4,
 "nbformat_minor": 2
}
