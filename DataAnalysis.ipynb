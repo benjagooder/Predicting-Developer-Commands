{
 "cells": [
  {
   "cell_type": "markdown",
   "metadata": {},
   "source": [
    "# MSR 2018 Challenge Notebook\n",
    "This notebook contains the work done for the analysis for Tyson Bulmer's MSR 2018 Challenge paper using the supplied dataset."
   ]
  },
  {
   "cell_type": "code",
   "execution_count": null,
   "metadata": {},
   "outputs": [],
   "source": [
    "import psycopg2\n",
    "import psycopg2.extras\n",
    "import pandas as pd\n",
    "import numpy as np\n",
    "import math\n",
    "\n",
    "import matplotlib.pyplot as plt\n",
    "\n",
    "# Configure display of dataframe visualizations\n",
    "pd.options.display.mpl_style = 'default'"
   ]
  },
  {
   "cell_type": "markdown",
   "metadata": {},
   "source": [
    "## Connect to database and get event data"
   ]
  },
  {
   "cell_type": "code",
   "execution_count": null,
   "metadata": {
    "collapsed": true
   },
   "outputs": [],
   "source": [
    "conn = psycopg2.connect(\"dbname='msr2018' user='' host='' password=''\")"
   ]
  },
  {
   "cell_type": "code",
   "execution_count": null,
   "metadata": {
    "collapsed": true
   },
   "outputs": [],
   "source": [
    "cur = conn.cursor()"
   ]
  },
  {
   "cell_type": "code",
   "execution_count": null,
   "metadata": {
    "collapsed": true
   },
   "outputs": [],
   "source": [
    "cur.execute(\"\"\"select event_type, idesessionuuid, triggeredat, duration from events\"\"\")"
   ]
  },
  {
   "cell_type": "code",
   "execution_count": null,
   "metadata": {
    "collapsed": true
   },
   "outputs": [],
   "source": [
    "colnames = [desc[0] for desc in cur.description]"
   ]
  },
  {
   "cell_type": "code",
   "execution_count": null,
   "metadata": {},
   "outputs": [],
   "source": [
    "rows = cur.fetchall()"
   ]
  },
  {
   "cell_type": "code",
   "execution_count": null,
   "metadata": {
    "collapsed": true
   },
   "outputs": [],
   "source": [
    "results = pd.DataFrame([list(row) for row in rows], columns=colnames)"
   ]
  },
  {
   "cell_type": "code",
   "execution_count": null,
   "metadata": {
    "collapsed": true
   },
   "outputs": [],
   "source": [
    "# Clean up events column strings\n",
    "results['event_type'] = results['event_type'].apply(lambda x:'.'.join(x.split(',')[0].split('.')[4:]))"
   ]
  },
  {
   "cell_type": "code",
   "execution_count": null,
   "metadata": {
    "scrolled": true
   },
   "outputs": [],
   "source": [
    "results"
   ]
  },
  {
   "cell_type": "markdown",
   "metadata": {},
   "source": [
    "## Filter events to user induced events"
   ]
  },
  {
   "cell_type": "code",
   "execution_count": null,
   "metadata": {
    "collapsed": true
   },
   "outputs": [],
   "source": [
    "user_events = [\n",
    "    'CommandEvent', 'NavigationEvent', 'VisualStudio.WindowEvent',\n",
    "       'ActivityEvent', 'CompletionEvents.CompletionEvent',\n",
    "       'VisualStudio.EditEvent', 'VisualStudio.DocumentEvent',\n",
    "       'VisualStudio.DebuggerEvent', 'SystemEvent',\n",
    "       'VisualStudio.SolutionEvent', 'VisualStudio.IDEStateEvent',\n",
    "       'UserProfiles.UserProfileEvent', 'VisualStudio.BuildEvent',\n",
    "       'TestRunEvents.TestRunEvent',\n",
    "       'VersionControlEvents.VersionControlEvent', 'VisualStudio.FindEvent'\n",
    "]"
   ]
  },
  {
   "cell_type": "code",
   "execution_count": null,
   "metadata": {
    "scrolled": true
   },
   "outputs": [],
   "source": [
    "results = results[results['event_type'].isin(user_events)]\n",
    "results"
   ]
  },
  {
   "cell_type": "markdown",
   "metadata": {},
   "source": [
    "## Define some helper functions for analyzing the data"
   ]
  },
  {
   "cell_type": "code",
   "execution_count": null,
   "metadata": {
    "collapsed": true
   },
   "outputs": [],
   "source": [
    "take_log = lambda x: math.log(float(x)+1)"
   ]
  },
  {
   "cell_type": "code",
   "execution_count": null,
   "metadata": {
    "collapsed": true
   },
   "outputs": [],
   "source": [
    "def plot_distribution(data, *, x_label, y_label, title, logged_distribution=True, save_as=None):\n",
    "    plt.clf()\n",
    "    fig, axes = plt.subplots(nrows=1, ncols=1)\n",
    "    if logged_distribution:\n",
    "        data = data.apply(take_log)\n",
    "    data.hist(ax=axes)\n",
    "    plt.title(title)\n",
    "    fig.text(0.5, 0.04,x_label, ha='center', rotation='horizontal')\n",
    "    fig.text(.04, 0.5, y_label, va='center', rotation='vertical')\n",
    "    if save_as:\n",
    "        plt.savefig(save_as)\n",
    "    plt.show()"
   ]
  },
  {
   "cell_type": "markdown",
   "metadata": {},
   "source": [
    "## Look into the data"
   ]
  },
  {
   "cell_type": "code",
   "execution_count": null,
   "metadata": {
    "collapsed": true
   },
   "outputs": [],
   "source": [
    "unique_events = results['event_type'].unique()"
   ]
  },
  {
   "cell_type": "code",
   "execution_count": null,
   "metadata": {},
   "outputs": [],
   "source": [
    "print(\"Number of unique events:\", len(unique_events))"
   ]
  },
  {
   "cell_type": "code",
   "execution_count": null,
   "metadata": {},
   "outputs": [],
   "source": [
    "unique_events"
   ]
  },
  {
   "cell_type": "markdown",
   "metadata": {},
   "source": [
    "## Group the sessions and analyze counts of events per session"
   ]
  },
  {
   "cell_type": "code",
   "execution_count": null,
   "metadata": {
    "collapsed": true
   },
   "outputs": [],
   "source": [
    "grouped_sessions = results.groupby('idesessionuuid')"
   ]
  },
  {
   "cell_type": "code",
   "execution_count": null,
   "metadata": {},
   "outputs": [],
   "source": [
    "grouped_sessions.size().describe(percentiles=[.1, .25, .5, .75, .9])"
   ]
  },
  {
   "cell_type": "code",
   "execution_count": null,
   "metadata": {},
   "outputs": [],
   "source": [
    "grouped_sessions.size().apply(take_log).describe()"
   ]
  },
  {
   "cell_type": "code",
   "execution_count": null,
   "metadata": {},
   "outputs": [],
   "source": [
    "plot_distribution(grouped_sessions.size(), x_label='Logged number events in session', y_label='Occurences', title='Events Per Session', save_as='eventspersession.png')"
   ]
  },
  {
   "cell_type": "code",
   "execution_count": null,
   "metadata": {},
   "outputs": [],
   "source": [
    "grouped_sessions.size().plot(kind='box')"
   ]
  },
  {
   "cell_type": "markdown",
   "metadata": {},
   "source": [
    "## Group the data by event_type to gt an idea of its distribution"
   ]
  },
  {
   "cell_type": "code",
   "execution_count": null,
   "metadata": {
    "collapsed": true
   },
   "outputs": [],
   "source": [
    "grouped_events = results.groupby('event_type')"
   ]
  },
  {
   "cell_type": "code",
   "execution_count": null,
   "metadata": {
    "scrolled": false
   },
   "outputs": [],
   "source": [
    "grouped_events.size().describe()"
   ]
  },
  {
   "cell_type": "code",
   "execution_count": null,
   "metadata": {},
   "outputs": [],
   "source": [
    "grouped_events.size().apply(take_log).plot(kind='barh', title='Distribution of Events')\n",
    "plt.savefig('eventtypedistibution.png',bbox_inches='tight')"
   ]
  },
  {
   "cell_type": "markdown",
   "metadata": {},
   "source": [
    "## Past here was looking into finding patterns, but none is included in the report"
   ]
  },
  {
   "cell_type": "markdown",
   "metadata": {},
   "source": [
    "## Identifying patterns"
   ]
  },
  {
   "cell_type": "markdown",
   "metadata": {},
   "source": [
    "### Method 1: See if any sessions did have exact same patterns"
   ]
  },
  {
   "cell_type": "code",
   "execution_count": null,
   "metadata": {
    "collapsed": true
   },
   "outputs": [],
   "source": [
    "from collections import defaultdict\n",
    "naive_pattern_dict = defaultdict(int)\n",
    "for session, group in grouped_sessions:\n",
    "    event_string = '-'.join(group['event_type'].str.lower())\n",
    "    naive_pattern_dict[event_string] += 1"
   ]
  },
  {
   "cell_type": "code",
   "execution_count": null,
   "metadata": {},
   "outputs": [],
   "source": [
    "print(\"Unique session patterns: \", len(naive_pattern_dict))"
   ]
  },
  {
   "cell_type": "code",
   "execution_count": null,
   "metadata": {},
   "outputs": [],
   "source": [
    "sorted(naive_pattern_dict.items(), key=lambda x: x[1], reverse=True)[:20]"
   ]
  },
  {
   "cell_type": "markdown",
   "metadata": {},
   "source": [
    "### Method 2: Abstract down patterns\n",
    "Reduce the patterns of events to things such as command+, selection, command ...\n",
    "\n",
    "Few possible options here:\n",
    "\n",
    "1) abstract with the + notation\n",
    "\n",
    "2) abstract with essentially the * notation\n",
    "\n",
    "3) instead do sets, so order doesnt matter, then see which commands are used together more than not"
   ]
  },
  {
   "cell_type": "code",
   "execution_count": null,
   "metadata": {
    "collapsed": true
   },
   "outputs": [],
   "source": [
    "# Option 1\n",
    "abstracted_pattern_dict_1 = defaultdict(int)\n",
    "for session, group in grouped_sessions:\n",
    "    prev = ''\n",
    "    new = []\n",
    "    for token in group['event_type'].str.lower():\n",
    "        if token != prev:\n",
    "            new.append(token)\n",
    "            prev = token\n",
    "        else:\n",
    "            new.pop()\n",
    "            new.append(token + '+')\n",
    "    event_string = '-'.join(new)\n",
    "    abstracted_pattern_dict_1[event_string] += 1"
   ]
  },
  {
   "cell_type": "code",
   "execution_count": null,
   "metadata": {},
   "outputs": [],
   "source": [
    "print(\"Option 1: Unique session patterns: \", len(abstracted_pattern_dict_1))"
   ]
  },
  {
   "cell_type": "code",
   "execution_count": null,
   "metadata": {},
   "outputs": [],
   "source": [
    "sorted(abstracted_pattern_dict_1.items(), key=lambda x: x[1], reverse=True)[:10]"
   ]
  },
  {
   "cell_type": "code",
   "execution_count": null,
   "metadata": {
    "collapsed": true
   },
   "outputs": [],
   "source": [
    "# Option 2\n",
    "abstracted_pattern_dict_2 = defaultdict(int)\n",
    "for session, group in grouped_sessions:\n",
    "    prev = ''\n",
    "    new = []\n",
    "    for token in group['event_type'].str.lower():\n",
    "        if token != prev:\n",
    "            new.append(token)\n",
    "            prev = token\n",
    "    event_string = '-'.join(new)\n",
    "    abstracted_pattern_dict_2[event_string] += 1"
   ]
  },
  {
   "cell_type": "code",
   "execution_count": null,
   "metadata": {},
   "outputs": [],
   "source": [
    "print(\"Option 2: Unique session patterns: \", len(abstracted_pattern_dict_2))"
   ]
  },
  {
   "cell_type": "code",
   "execution_count": null,
   "metadata": {},
   "outputs": [],
   "source": [
    "sorted(abstracted_pattern_dict_2.items(), key=lambda x: x[1], reverse=True)[:10]"
   ]
  },
  {
   "cell_type": "code",
   "execution_count": null,
   "metadata": {
    "collapsed": true
   },
   "outputs": [],
   "source": [
    "# Option 3\n",
    "abstracted_pattern_dict_3 = defaultdict(int)\n",
    "for session, group in grouped_sessions:\n",
    "    event_string = '-'.join(sorted(group['event_type'].unique())).lower()\n",
    "    abstracted_pattern_dict_3[event_string] += 1"
   ]
  },
  {
   "cell_type": "code",
   "execution_count": null,
   "metadata": {},
   "outputs": [],
   "source": [
    "# Given that the number of possible unique event combinations is 2^16 - 1 -> 65535 \n",
    "print(\"Option 3: Unique session patterns: \", len(abstracted_pattern_dict_3))"
   ]
  },
  {
   "cell_type": "code",
   "execution_count": null,
   "metadata": {},
   "outputs": [],
   "source": [
    "sorted(abstracted_pattern_dict_3.items(), key=lambda x: x[1], reverse=True)[:10]"
   ]
  },
  {
   "cell_type": "markdown",
   "metadata": {},
   "source": [
    "### Look deeper into Option 3\n",
    "Only 407 unique combinations of patterns. We can investigate which events rarely happen together and which happen togther frequently"
   ]
  },
  {
   "cell_type": "code",
   "execution_count": null,
   "metadata": {},
   "outputs": [],
   "source": [
    "occurrence_dict = defaultdict(int)\n",
    "original = []\n",
    "duplicate = []\n",
    "for key, value in abstracted_pattern_dict_3.items():\n",
    "    for e in key.split('-'):\n",
    "        for m in key.split('-'):\n",
    "            if e == m: continue\n",
    "            if e+'-'+m not in original and e+'-'+m not in duplicate:\n",
    "                original.append(e+'-'+m)\n",
    "                duplicate.append(m+'-'+e)\n",
    "            elif e+'-'+m in original:\n",
    "                occurrence_dict[e+'-'+m] += value\n",
    "            else:\n",
    "                # Pair is a duplicate so ignore\n",
    "                pass\n",
    "                \n",
    "occurrence_dict"
   ]
  },
  {
   "cell_type": "code",
   "execution_count": null,
   "metadata": {},
   "outputs": [],
   "source": [
    "sorted(occurrence_dict.items(), key=lambda x:x[1], reverse=True)"
   ]
  },
  {
   "cell_type": "code",
   "execution_count": null,
   "metadata": {},
   "outputs": [],
   "source": [
    "# Successive actions for tools only\n",
    "pair_dict = defaultdict(int)\n",
    "for index, group in grouped_sessions:\n",
    "    l = list(group['event_type'])\n",
    "    for i, event in enumerate(l[1:]):\n",
    "        pair_dict[l[i]+'-'+l[i+1]] += 1\n",
    "sorted(pair_dict.items(), key=lambda x: x[1], reverse=True)"
   ]
  },
  {
   "cell_type": "code",
   "execution_count": null,
   "metadata": {},
   "outputs": [],
   "source": [
    "# Successive actions for all\n",
    "pair_dict = defaultdict(int)\n",
    "for index, group in results.groupby('idesessionuuid'):\n",
    "    l = list(group['event_type'])\n",
    "    for i, event in enumerate(l[1:]):\n",
    "        pair_dict[l[i]+'-'+l[i+1]] += 1\n",
    "sorted(pair_dict.items(), key=lambda x: x[1], reverse=True)"
   ]
  },
  {
   "cell_type": "code",
   "execution_count": null,
   "metadata": {
    "collapsed": true
   },
   "outputs": [],
   "source": [
    "for index, group in results.groupby('idesessionuuid'):\n",
    "    l = list(group['event_type'])\n",
    "    for i, event in enumerate(l[1:]):"
   ]
  },
  {
   "cell_type": "markdown",
   "metadata": {},
   "source": [
    "### Method 3: Find sequences of patterns\n",
    "Find sequences from small patterns in large ones"
   ]
  },
  {
   "cell_type": "code",
   "execution_count": null,
   "metadata": {
    "collapsed": true
   },
   "outputs": [],
   "source": []
  }
 ],
 "metadata": {
  "kernelspec": {
   "display_name": "Python 3",
   "language": "python",
   "name": "python3"
  },
  "language_info": {
   "codemirror_mode": {
    "name": "ipython",
    "version": 3
   },
   "file_extension": ".py",
   "mimetype": "text/x-python",
   "name": "python",
   "nbconvert_exporter": "python",
   "pygments_lexer": "ipython3",
   "version": "3.5.2"
  }
 },
 "nbformat": 4,
 "nbformat_minor": 2
}
