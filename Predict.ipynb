{
 "cells": [
  {
   "cell_type": "markdown",
   "metadata": {},
   "source": [
    "# MSR 2018 Challenge Notebook - Use Data\n",
    "This notebook contains the work done for the prediction for Tyson Bulmer's MSR 2018 Challenge paper using the supplied dataset."
   ]
  },
  {
   "cell_type": "code",
   "execution_count": null,
   "metadata": {
    "collapsed": true
   },
   "outputs": [],
   "source": [
    "import pandas as pd\n",
    "import numpy as np\n",
    "\n",
    "import math\n",
    "\n",
    "import matplotlib.pyplot as plt\n",
    "\n",
    "from tqdm import tqdm\n",
    "\n",
    "\n",
    "from sklearn.feature_extraction.text import CountVectorizer\n",
    "from sklearn.model_selection import cross_val_score\n",
    "from sklearn.naive_bayes import MultinomialNB"
   ]
  },
  {
   "cell_type": "markdown",
   "metadata": {},
   "source": [
    "## Read in formated data"
   ]
  },
  {
   "cell_type": "code",
   "execution_count": null,
   "metadata": {
    "collapsed": true
   },
   "outputs": [],
   "source": [
    "event_data = pd.read_csv('data.csv')\n",
    "# Filter out unknown buton command\n",
    "event_data = event_data[event_data['command'] != 'CommandEvent-unknown.button']"
   ]
  },
  {
   "cell_type": "code",
   "execution_count": null,
   "metadata": {
    "scrolled": true
   },
   "outputs": [],
   "source": [
    "counts = event_data['command'].value_counts()\n",
    "counts"
   ]
  },
  {
   "cell_type": "code",
   "execution_count": null,
   "metadata": {},
   "outputs": [],
   "source": [
    "import math\n",
    "plt.plot(list(counts.cumsum() / sum(counts)))\n",
    "plt.xlabel('Number of events')\n",
    "plt.ylabel('Cumulative sum')\n",
    "plt.title('Cumulative sum of different command events')\n",
    "plt.savefig('cumulativesum.png')\n",
    "plt.show()"
   ]
  },
  {
   "cell_type": "code",
   "execution_count": null,
   "metadata": {
    "collapsed": true
   },
   "outputs": [],
   "source": [
    "event_data = event_data[event_data['command'].isin(counts[(counts.cumsum() / sum(counts)) < .9].index)].sample(100000)"
   ]
  },
  {
   "cell_type": "markdown",
   "metadata": {},
   "source": [
    "## Predict across different N-Gram ranges"
   ]
  },
  {
   "cell_type": "code",
   "execution_count": null,
   "metadata": {
    "collapsed": true
   },
   "outputs": [],
   "source": [
    "ngram_combos = [\n",
    "    (1,1),\n",
    "    (1,2),\n",
    "    (1,3),\n",
    "    (1,4)\n",
    "]"
   ]
  },
  {
   "cell_type": "code",
   "execution_count": null,
   "metadata": {},
   "outputs": [],
   "source": [
    "d = {}\n",
    "for combo in ngram_combos:\n",
    "    X, y = event_data['events'], event_data['command']\n",
    "    X = CountVectorizer(ngram_range=combo).fit_transform(X).toarray()\n",
    "    model = MultinomialNB()\n",
    "    print(X.shape)\n",
    "    d[combo] = sum(cross_val_score(model, X, y, cv=10)) / 10"
   ]
  },
  {
   "cell_type": "markdown",
   "metadata": {},
   "source": [
    "### Try other models"
   ]
  },
  {
   "cell_type": "code",
   "execution_count": null,
   "metadata": {
    "collapsed": true
   },
   "outputs": [],
   "source": [
    "from sklearn.naive_bayes import GaussianNB, BernoulliNB\n",
    "from sklearn.linear_model import LogisticRegression"
   ]
  },
  {
   "cell_type": "code",
   "execution_count": null,
   "metadata": {},
   "outputs": [],
   "source": [
    "d_1 = {}\n",
    "k = {'GaussianNB': GaussianNB, 'BernoulliNB': BernoulliNB,'LogisticRegression':LogisticRegression }\n",
    "for name, model_t in k.items():\n",
    "    print(name)\n",
    "    for combo in ngram_combos:\n",
    "        X, y = event_data['events'], event_data['command']\n",
    "        X = CountVectorizer(ngram_range=combo).fit_transform(X).toarray()\n",
    "        model = model_t()\n",
    "        d_1[combo] = sum(cross_val_score(model, X, y, cv=10)) / 10\n",
    "    print(d_1)"
   ]
  }
 ],
 "metadata": {
  "kernelspec": {
   "display_name": "Python 3",
   "language": "python",
   "name": "python3"
  },
  "language_info": {
   "codemirror_mode": {
    "name": "ipython",
    "version": 3
   },
   "file_extension": ".py",
   "mimetype": "text/x-python",
   "name": "python",
   "nbconvert_exporter": "python",
   "pygments_lexer": "ipython3",
   "version": "3.5.2"
  }
 },
 "nbformat": 4,
 "nbformat_minor": 2
}
